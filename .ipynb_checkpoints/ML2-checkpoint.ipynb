{
 "cells": [
  {
   "cell_type": "code",
   "execution_count": 17,
   "metadata": {},
   "outputs": [],
   "source": [
    "import pandas as pd\n",
    "import numpy as np\n",
    "import time\n",
    "from sklearn.model_selection import train_test_split\n",
    "from sklearn.linear_model import LinearRegression, Lasso\n",
    "from sklearn.ensemble import RandomForestRegressor, GradientBoostingRegressor\n",
    "from xgboost import XGBRegressor\n",
    "from sklearn.preprocessing import OneHotEncoder\n",
    "from sklearn.metrics import mean_absolute_error, mean_squared_error\n",
    "import matplotlib.pyplot as plt\n",
    "import seaborn as sns"
   ]
  },
  {
   "cell_type": "code",
   "execution_count": 2,
   "metadata": {},
   "outputs": [
    {
     "name": "stdout",
     "output_type": "stream",
     "text": [
      "Collecting xgboost\n",
      "  Downloading xgboost-2.1.4-py3-none-win_amd64.whl (124.9 MB)\n",
      "Requirement already satisfied: numpy in c:\\users\\екатерина\\appdata\\roaming\\python\\python38\\site-packages (from xgboost) (1.21.0)\n",
      "Requirement already satisfied: scipy in c:\\programdata\\anaconda3\\lib\\site-packages (from xgboost) (1.5.2)\n",
      "Installing collected packages: xgboost\n",
      "Successfully installed xgboost-2.1.4\n"
     ]
    }
   ],
   "source": [
    "#!pip install xgboost"
   ]
  },
  {
   "cell_type": "code",
   "execution_count": 33,
   "metadata": {},
   "outputs": [],
   "source": [
    "df = pd.read_csv('C://nis/ML/listings (8).csv')\n",
    "\n",
    "# Drop irrelevant columns\n",
    "df = df[['neighbourhood', 'latitude', 'longitude', 'room_type', 'price', 'minimum_nights',\n",
    "         'number_of_reviews', 'reviews_per_month', 'calculated_host_listings_count', 'availability_365']]\n",
    "\n",
    "# Handle missing values\n",
    "df['price'].fillna(df['price'].median(), inplace=True)\n",
    "df['reviews_per_month'].fillna(0, inplace=True)"
   ]
  },
  {
   "cell_type": "code",
   "execution_count": 34,
   "metadata": {},
   "outputs": [
    {
     "data": {
      "text/plain": [
       "neighbourhood                      object\n",
       "latitude                          float64\n",
       "longitude                         float64\n",
       "room_type                          object\n",
       "price                             float64\n",
       "minimum_nights                      int64\n",
       "number_of_reviews                   int64\n",
       "reviews_per_month                 float64\n",
       "calculated_host_listings_count      int64\n",
       "availability_365                    int64\n",
       "dtype: object"
      ]
     },
     "execution_count": 34,
     "metadata": {},
     "output_type": "execute_result"
    }
   ],
   "source": [
    "df.dtypes"
   ]
  },
  {
   "cell_type": "code",
   "execution_count": 35,
   "metadata": {},
   "outputs": [],
   "source": [
    "# Convert categorical data\n",
    "ohe = OneHotEncoder(drop='first', sparse=False)\n",
    "categorical_cols = ['neighbourhood', 'room_type']\n",
    "ohe_data = ohe.fit_transform(df[categorical_cols])\n",
    "ohe_df = pd.DataFrame(ohe_data, columns=[f\"{col}_{val}\" for col, vals in zip(categorical_cols, ohe.categories_) for val in vals[1:]])"
   ]
  },
  {
   "cell_type": "code",
   "execution_count": null,
   "metadata": {},
   "outputs": [],
   "source": []
  },
  {
   "cell_type": "code",
   "execution_count": 37,
   "metadata": {},
   "outputs": [],
   "source": [
    "# Merge data\n",
    "df = df.drop(columns=categorical_cols)\n",
    "df = pd.concat([df, ohe_df], axis=1)\n",
    "\n",
    "# Split dataset\n",
    "X = df.drop(columns=['price'])\n",
    "y = df['price']\n",
    "X_train, X_test, y_train, y_test = train_test_split(X, y, test_size=0.2, random_state=42)"
   ]
  },
  {
   "cell_type": "markdown",
   "metadata": {},
   "source": [
    "# 5 pricing models"
   ]
  },
  {
   "cell_type": "code",
   "execution_count": 67,
   "metadata": {},
   "outputs": [
    {
     "name": "stdout",
     "output_type": "stream",
     "text": [
      "OLS: MAE=82.49, RMSE=371.88\n",
      "LASSO: MAE=82.20, RMSE=371.60\n",
      "Random Forest: MAE=71.06, RMSE=378.94\n",
      "Gradient Boosting: MAE=74.36, RMSE=374.45\n",
      "XGBoost: MAE=77.11, RMSE=389.49\n"
     ]
    }
   ],
   "source": [
    "models = {\n",
    "    'OLS': LinearRegression(),\n",
    "    'LASSO': Lasso(alpha=0.1),\n",
    "    'Random Forest': RandomForestRegressor(n_estimators=100, random_state=42),\n",
    "    'Gradient Boosting': GradientBoostingRegressor(n_estimators=100, random_state=42),\n",
    "    'XGBoost': XGBRegressor(n_estimators=100, random_state=42)\n",
    "}\n",
    "\n",
    "# Train and evaluate models\n",
    "results = {}\n",
    "fit_times = {}\n",
    "for name, model in models.items():\n",
    "    start_time = time.time()\n",
    "    model.fit(X_train, y_train)\n",
    "    fit_time = time.time() - start_time\n",
    "    \n",
    "    y_pred = model.predict(X_test)\n",
    "    mae = mean_absolute_error(y_test, y_pred)\n",
    "    rmse = np.sqrt(mean_squared_error(y_test, y_pred))\n",
    "    results[name] = {'MAE': mae, 'RMSE': rmse}\n",
    "    fit_times[name] = fit_time\n",
    "\n",
    "# Print results\n",
    "for model, metrics in results.items():\n",
    "    print(f\"{model}: MAE={metrics['MAE']:.2f}, RMSE={metrics['RMSE']:.2f}\")"
   ]
  },
  {
   "cell_type": "markdown",
   "metadata": {},
   "source": [
    "# Comparing models in terms of fit and time"
   ]
  },
  {
   "cell_type": "code",
   "execution_count": 69,
   "metadata": {},
   "outputs": [
    {
     "name": "stdout",
     "output_type": "stream",
     "text": [
      "                         MAE        RMSE  Fit Time (s)\n",
      "OLS                82.491045  371.883355      0.159885\n",
      "LASSO              82.198511  371.603663      0.109358\n",
      "Random Forest      71.059422  378.944944     43.654297\n",
      "Gradient Boosting  74.361365  374.445169      9.394623\n",
      "XGBoost            77.106050  389.487618      0.695031\n"
     ]
    }
   ],
   "source": [
    "# Create horserace table\n",
    "results_df = pd.DataFrame(results).T\n",
    "results_df['Fit Time (s)'] = results_df.index.map(fit_times)\n",
    "print(results_df)\n"
   ]
  },
  {
   "cell_type": "markdown",
   "metadata": {},
   "source": [
    "### Toronto Q4 2024 Performance\n",
    "In Q4 2024, the models showed consistent performance, with Random Forest achieving the best MAE (71.06), though it had the longest training time (43.89 seconds). Gradient Boosting followed closely with a slightly higher MAE (74.36) but a much shorter training time (9.10 seconds). OLS and LASSO performed similarly, with LASSO being marginally better in terms of MAE and RMSE. XGBoost lagged behind, showing the highest RMSE (389.49), indicating higher prediction errors. Overall, Random Forest provided the best balance between predictive accuracy and stability, but its high computational cost is a tradeoff."
   ]
  },
  {
   "cell_type": "markdown",
   "metadata": {},
   "source": [
    "#  RF and a boosting model"
   ]
  },
  {
   "cell_type": "code",
   "execution_count": 70,
   "metadata": {},
   "outputs": [],
   "source": [
    "# Feature Importance Analysis\n",
    "rf_model = models['Random Forest']\n",
    "boosting_model = models['Gradient Boosting']\n",
    "\n",
    "rf_importances = rf_model.feature_importances_\n",
    "boosting_importances = boosting_model.feature_importances_\n",
    "\n",
    "feature_names = X.columns\n",
    "rf_feature_importance = pd.DataFrame({'Feature': feature_names, 'Importance': rf_importances}).sort_values(by='Importance', ascending=False)\n",
    "boosting_feature_importance = pd.DataFrame({'Feature': feature_names, 'Importance': boosting_importances}).sort_values(by='Importance', ascending=False)\n"
   ]
  },
  {
   "cell_type": "code",
   "execution_count": 71,
   "metadata": {},
   "outputs": [
    {
     "data": {
      "image/png": "[encoded data removed]",
      "text/plain": [
       "<Figure size 864x360 with 2 Axes>"
      ]
     },
     "metadata": {
      "needs_background": "light"
     },
     "output_type": "display_data"
    }
   ],
   "source": [
    "# Plot top 10 features\n",
    "plt.figure(figsize=(12, 5))\n",
    "plt.subplot(1, 2, 1)\n",
    "sns.barplot(x=rf_feature_importance[:10]['Importance'], y=rf_feature_importance[:10]['Feature'])\n",
    "plt.title('Top 10 Features - Random Forest')\n",
    "\n",
    "plt.subplot(1, 2, 2)\n",
    "sns.barplot(x=boosting_feature_importance[:10]['Importance'], y=boosting_feature_importance[:10]['Feature'])\n",
    "plt.title('Top 10 Features - Gradient Boosting')\n",
    "\n",
    "plt.tight_layout()\n",
    "plt.show()"
   ]
  },
  {
   "cell_type": "code",
   "execution_count": 72,
   "metadata": {},
   "outputs": [
    {
     "name": "stdout",
     "output_type": "stream",
     "text": [
      "Top 10 Features - Random Forest:\n",
      "                              Feature  Importance\n",
      "1                          longitude    0.206858\n",
      "3                  number_of_reviews    0.155808\n",
      "0                           latitude    0.151866\n",
      "6                   availability_365    0.127071\n",
      "4                  reviews_per_month    0.092889\n",
      "2                     minimum_nights    0.085465\n",
      "5     calculated_host_listings_count    0.056094\n",
      "146           room_type_Private room    0.028771\n",
      "77     neighbourhood_Little Portugal    0.010883\n",
      "125  neighbourhood_Trinity-Bellwoods    0.010471\n",
      "\n",
      "Top 10 Features - Gradient Boosting:\n",
      "                               Feature  Importance\n",
      "3                   number_of_reviews    0.187422\n",
      "0                            latitude    0.165971\n",
      "2                      minimum_nights    0.152636\n",
      "1                           longitude    0.094526\n",
      "4                   reviews_per_month    0.086902\n",
      "6                    availability_365    0.080211\n",
      "146            room_type_Private room    0.062536\n",
      "77      neighbourhood_Little Portugal    0.041467\n",
      "105  neighbourhood_Princess-Rosethorn    0.040687\n",
      "136     neighbourhood_Willowdale West    0.024467\n"
     ]
    }
   ],
   "source": [
    "# Compare top 10 important features\n",
    "print(\"Top 10 Features - Random Forest:\\n\", rf_feature_importance[:10])\n",
    "print(\"\\nTop 10 Features - Gradient Boosting:\\n\", boosting_feature_importance[:10])"
   ]
  },
  {
   "cell_type": "markdown",
   "metadata": {},
   "source": [
    "#### Common Key Features\n",
    "\n",
    "Both models rank longitude, latitude, number_of_reviews, minimum_nights, reviews_per_month, and availability_365 as among the most influential predictors. This suggests that location and guest engagement metrics (such as reviews) play a crucial role in determining Airbnb prices. The high importance of longitude and latitude emphasizes how precise location, rather than just the neighborhood label, strongly affects pricing.\n",
    "\n",
    "The differences between the models' feature importance rankings reveal interesting insights into how each algorithm prioritizes factors influencing Airbnb pricing. Random Forest places the highest importance on longitude, suggesting that it heavily relies on precise location data when determining price. In contrast, Gradient Boosting assigns more weight to the number of reviews, indicating that it considers guest engagement and listing popularity as a stronger price determinant. Additionally, minimum nights carry a higher importance in Gradient Boosting than in Random Forest, meaning that the boosting model is more sensitive to restrictions on stay duration.  \n",
    "\n",
    "Another notable difference is how each model treats neighborhood and room type variables. While both models highlight \"Little Portugal\" as an influential neighborhood, Gradient Boosting further identifies \"Princess-Rosethorn\" and \"Willowdale West\" as important, suggesting that it captures subtle local market variations better than Random Forest. Similarly, room type plays a larger role in Gradient Boosting, where \"Private Room\" has a higher weight compared to its importance in Random Forest. This indicates that the boosting model may be more adept at recognizing price differences across different accommodation types.  \n",
    "\n",
    "Overall, if the goal is to optimize pricing primarily based on precise location data, Random Forest appears to be the better choice due to its stronger reliance on longitude and latitude. On the other hand, if pricing decisions need to account for guest behavior, listing engagement, and market trends, Gradient Boosting may be more suitable as it gives more importance to reviews, stay restrictions, and specific neighborhoods."
   ]
  },
  {
   "cell_type": "code",
   "execution_count": null,
   "metadata": {},
   "outputs": [],
   "source": []
  },
  {
   "cell_type": "markdown",
   "metadata": {},
   "source": [
    "# Other dataset (Vancouver)"
   ]
  },
  {
   "cell_type": "code",
   "execution_count": 45,
   "metadata": {},
   "outputs": [],
   "source": [
    "df_city = pd.read_csv('C://nis/ML/listings (7).csv')\n",
    "\n",
    "# Drop irrelevant columns\n",
    "df_city = df_city[['neighbourhood', 'latitude', 'longitude', 'room_type', 'price', 'minimum_nights',\n",
    "         'number_of_reviews', 'reviews_per_month', 'calculated_host_listings_count', 'availability_365']]\n",
    "\n",
    "# Handle missing values\n",
    "df_city['price'].fillna(df_city['price'].median(), inplace=True)\n",
    "df_city['reviews_per_month'].fillna(0, inplace=True)"
   ]
  },
  {
   "cell_type": "code",
   "execution_count": 73,
   "metadata": {},
   "outputs": [],
   "source": [
    "def models(df):# Convert categorical data\n",
    "    ohe = OneHotEncoder(drop='first', sparse=False)\n",
    "    categorical_cols = ['neighbourhood', 'room_type']\n",
    "    ohe_data = ohe.fit_transform(df[categorical_cols])\n",
    "    ohe_df = pd.DataFrame(ohe_data, columns=[f\"{col}_{val}\" for col, vals in zip(categorical_cols, ohe.categories_) for val in vals[1:]])\n",
    "\n",
    "    df = df.drop(columns=categorical_cols)\n",
    "    df = pd.concat([df, ohe_df], axis=1)\n",
    "\n",
    "    # Split dataset\n",
    "    X = df.drop(columns=['price'])\n",
    "    y = df['price']\n",
    "    X_train, X_test, y_train, y_test = train_test_split(X, y, test_size=0.2, random_state=42)\n",
    "\n",
    "    models = {\n",
    "        'OLS': LinearRegression(),\n",
    "        'LASSO': Lasso(alpha=0.1),\n",
    "        'Random Forest': RandomForestRegressor(n_estimators=100, random_state=42),\n",
    "        'Gradient Boosting': GradientBoostingRegressor(n_estimators=100, random_state=42),\n",
    "        'XGBoost': XGBRegressor(n_estimators=100, random_state=42)\n",
    "    }\n",
    "\n",
    "    # Train and evaluate models\n",
    "    results = {}\n",
    "    fit_times = {}\n",
    "    for name, model in models.items():\n",
    "        start_time = time.time()\n",
    "        model.fit(X_train, y_train)\n",
    "        fit_time = time.time() - start_time\n",
    "\n",
    "        y_pred = model.predict(X_test)\n",
    "        mae = mean_absolute_error(y_test, y_pred)\n",
    "        rmse = np.sqrt(mean_squared_error(y_test, y_pred))\n",
    "        results[name] = {'MAE': mae, 'RMSE': rmse}\n",
    "        fit_times[name] = fit_time\n",
    "\n",
    "\n",
    "        # Create horserace table\n",
    "    results_df = pd.DataFrame(results).T\n",
    "    results_df['Fit Time (s)'] = results_df.index.map(fit_times)\n",
    "    rf_model = models['Random Forest']\n",
    "    boosting_model = models['Gradient Boosting']\n",
    "\n",
    "    rf_importances = rf_model.feature_importances_\n",
    "    boosting_importances = boosting_model.feature_importances_\n",
    "\n",
    "    feature_names = X.columns\n",
    "    rf_feature_importance = pd.DataFrame({'Feature': feature_names, 'Importance': rf_importances}).sort_values(by='Importance', ascending=False)\n",
    "    boosting_feature_importance = pd.DataFrame({'Feature': feature_names, 'Importance': boosting_importances}).sort_values(by='Importance', ascending=False)\n",
    "\n",
    "    # Plot top 10 features\n",
    "    plt.figure(figsize=(12, 5))\n",
    "    plt.subplot(1, 2, 1)\n",
    "    sns.barplot(x=rf_feature_importance[:10]['Importance'], y=rf_feature_importance[:10]['Feature'])\n",
    "    plt.title('Top 10 Features - Random Forest')\n",
    "\n",
    "    plt.subplot(1, 2, 2)\n",
    "    sns.barplot(x=boosting_feature_importance[:10]['Importance'], y=boosting_feature_importance[:10]['Feature'])\n",
    "    plt.title('Top 10 Features - Gradient Boosting')\n",
    "\n",
    "    plt.tight_layout()\n",
    "    plt.show()\n",
    "    print(\"Top 10 Features - Random Forest:\\n\", rf_feature_importance[:10])\n",
    "    print(\"\\nTop 10 Features - Gradient Boosting:\\n\", boosting_feature_importance[:10])\n",
    "    return (results_df)\n",
    "\n"
   ]
  },
  {
   "cell_type": "code",
   "execution_count": 74,
   "metadata": {},
   "outputs": [
    {
     "data": {
      "image/png": "[encoded data removed]",
      "text/plain": [
       "<Figure size 864x360 with 2 Axes>"
      ]
     },
     "metadata": {
      "needs_background": "light"
     },
     "output_type": "display_data"
    },
    {
     "name": "stdout",
     "output_type": "stream",
     "text": [
      "Top 10 Features - Random Forest:\n",
      "                            Feature  Importance\n",
      "1                        longitude    0.477043\n",
      "6                 availability_365    0.205123\n",
      "0                         latitude    0.072701\n",
      "4                reviews_per_month    0.065365\n",
      "3                number_of_reviews    0.047694\n",
      "5   calculated_host_listings_count    0.036532\n",
      "2                   minimum_nights    0.034304\n",
      "10          neighbourhood_Fairview    0.022323\n",
      "30          room_type_Private room    0.005103\n",
      "14        neighbourhood_Kerrisdale    0.005094\n",
      "\n",
      "Top 10 Features - Gradient Boosting:\n",
      "                                    Feature  Importance\n",
      "6                         availability_365    0.515751\n",
      "1                                longitude    0.154831\n",
      "3                        number_of_reviews    0.122611\n",
      "4                        reviews_per_month    0.095960\n",
      "10                  neighbourhood_Fairview    0.028142\n",
      "2                           minimum_nights    0.023538\n",
      "5           calculated_host_listings_count    0.021697\n",
      "0                                 latitude    0.016526\n",
      "13  neighbourhood_Kensington-Cedar Cottage    0.010118\n",
      "30                  room_type_Private room    0.003972\n",
      "                          MAE        RMSE  Fit Time (s)\n",
      "OLS                122.847419  639.412298      0.007433\n",
      "LASSO              122.756937  640.311829      0.017508\n",
      "Random Forest      111.109167  566.057863      2.597722\n",
      "Gradient Boosting   99.608020  359.865405      0.602523\n",
      "XGBoost            112.903903  353.915152      0.212070\n"
     ]
    }
   ],
   "source": [
    "print (models(df_city))"
   ]
  },
  {
   "cell_type": "markdown",
   "metadata": {},
   "source": [
    "### Vancouver Q1 2025 Performance\n",
    "\n",
    "The Vancouver dataset presented higher overall errors compared to Toronto, suggesting a more complex or volatile market. The MAE and RMSE values were notably higher across all models. Random Forest still outperformed other models in MAE (111.10), but its RMSE (566.05) was significantly worse than Toronto’s results. Gradient Boosting had the best RMSE (359.86), making it the most balanced model in Vancouver’s market. The training times were considerably shorter compared to Toronto, likely due to a smaller dataset or fewer categorical variables. These results suggest that pricing in Vancouver is harder to predict, possibly due to more market fluctuations or a different supply-demand structure compared to Toronto.\n",
    "\n"
   ]
  },
  {
   "cell_type": "code",
   "execution_count": null,
   "metadata": {},
   "outputs": [],
   "source": []
  },
  {
   "cell_type": "code",
   "execution_count": null,
   "metadata": {},
   "outputs": [],
   "source": []
  },
  {
   "cell_type": "markdown",
   "metadata": {},
   "source": [
    "# Other dataset (Totonto, different timing)"
   ]
  },
  {
   "cell_type": "code",
   "execution_count": 44,
   "metadata": {},
   "outputs": [],
   "source": [
    "df_time = pd.read_csv('C://nis/ML/listings (4).csv')\n",
    "\n",
    "# Drop irrelevant columns\n",
    "df_time = df_time[['neighbourhood', 'latitude', 'longitude', 'room_type', 'price', 'minimum_nights',\n",
    "         'number_of_reviews', 'reviews_per_month', 'calculated_host_listings_count', 'availability_365']]\n",
    "\n",
    "# Handle missing values\n",
    "df_time['price'].fillna(df_time['price'].median(), inplace=True)\n",
    "df_time['reviews_per_month'].fillna(0, inplace=True)"
   ]
  },
  {
   "cell_type": "code",
   "execution_count": 75,
   "metadata": {},
   "outputs": [
    {
     "data": {
      "image/png": "[encoded data removed]",
      "text/plain": [
       "<Figure size 864x360 with 2 Axes>"
      ]
     },
     "metadata": {
      "needs_background": "light"
     },
     "output_type": "display_data"
    },
    {
     "name": "stdout",
     "output_type": "stream",
     "text": [
      "Top 10 Features - Random Forest:\n",
      "                                Feature  Importance\n",
      "6                     availability_365    0.197771\n",
      "1                            longitude    0.188352\n",
      "0                             latitude    0.174839\n",
      "3                    number_of_reviews    0.094232\n",
      "2                       minimum_nights    0.091229\n",
      "4                    reviews_per_month    0.065801\n",
      "146             room_type_Private room    0.037977\n",
      "5       calculated_host_listings_count    0.031554\n",
      "114  neighbourhood_Scarborough Village    0.014229\n",
      "105   neighbourhood_Princess-Rosethorn    0.010732\n",
      "\n",
      "Top 10 Features - Gradient Boosting:\n",
      "                                   Feature  Importance\n",
      "1                               longitude    0.178499\n",
      "2                          minimum_nights    0.146242\n",
      "0                                latitude    0.143577\n",
      "146                room_type_Private room    0.126606\n",
      "120  neighbourhood_Tam O'Shanter-Sullivan    0.091211\n",
      "6                        availability_365    0.079630\n",
      "114     neighbourhood_Scarborough Village    0.075441\n",
      "3                       number_of_reviews    0.043592\n",
      "105      neighbourhood_Princess-Rosethorn    0.030987\n",
      "132                  neighbourhood_Weston    0.019742\n",
      "                         MAE        RMSE  Fit Time (s)\n",
      "OLS                80.546851  308.562832      0.120414\n",
      "LASSO              80.043346  308.371371      0.088495\n",
      "Random Forest      67.694903  312.847259     46.084294\n",
      "Gradient Boosting  70.133614  306.377027      7.668307\n",
      "XGBoost            72.092166  312.096792      0.764000\n"
     ]
    }
   ],
   "source": [
    "print (models(df_time))"
   ]
  },
  {
   "cell_type": "markdown",
   "metadata": {},
   "source": [
    "### Toronto Q1 2025 Performance\n",
    "\n",
    "For Q1 2025, we observe a slight performance improvement across models. MAE values decreased slightly for all models compared to Q4 2024. Random Forest maintained the best MAE (67.69), reinforcing its strength in predictive performance. Gradient Boosting also improved, showing a lower RMSE than in Q4. Interestingly, OLS and LASSO also had slightly better error metrics, which suggests that the pricing patterns in this quarter might be more predictable. Training times remained consistent, with Random Forest taking the longest (47.21 seconds), followed by Gradient Boosting (10.08 seconds). Overall, models performed better in this quarter, indicating either a more stable market or improved data consistency."
   ]
  },
  {
   "cell_type": "code",
   "execution_count": null,
   "metadata": {},
   "outputs": [],
   "source": []
  },
  {
   "cell_type": "markdown",
   "metadata": {},
   "source": [
    "### Validity Discussion: Comparing Performance Across Datasets\n",
    "\n",
    "The comparison of models across different datasets highlights key observations regarding model validity. Firstly, performance generally improved between Q4 2024 and Q1 2025 in Toronto, suggesting market stability over time. However, the Vancouver dataset demonstrated significantly higher errors, indicating that models trained in one city may not generalize well to another. Random Forest consistently delivered the best MAE across datasets, reinforcing its robustness, but its long training time remains a limitation. Gradient Boosting emerged as a strong competitor, particularly in Vancouver, where it had the best RMSE. These findings suggest that while Random Forest is a reliable choice for accuracy, Gradient Boosting may be better suited for new or volatile markets due to its balanced performance."
   ]
  },
  {
   "cell_type": "code",
   "execution_count": null,
   "metadata": {},
   "outputs": [],
   "source": []
  },
  {
   "cell_type": "markdown",
   "metadata": {},
   "source": [
    "### Importance comparison\n",
    "\n",
    "The comparison of feature importance across different time periods and cities highlights the variations in pricing determinants and how the models adapt to different datasets.\n",
    "\n",
    "Starting with Toronto Q4 2024 and Q1 2025, we see some shifts in how features influence price predictions. In Q4 2024, both Random Forest and Gradient Boosting assigned high importance to longitude, latitude, number_of_reviews, and availability_365, showing that location and guest engagement remained crucial pricing factors. However, in Q1 2025, availability_365 became the most important feature for Random Forest, surpassing longitude and latitude. This suggests that seasonal variations or booking patterns may have become more critical in pricing decisions. Similarly, Gradient Boosting in Q1 2025 places more weight on minimum_nights and room type (Private Room) compared to Q4 2024, where reviews and neighborhoods played a larger role. This shift indicates that in the newer dataset, length of stay and accommodation type have gained more relevance, possibly due to changing booking behaviors at the start of the year.\n",
    "\n",
    "Comparing Toronto Q1 2025 to Vancouver Q1 2025, the importance of location remains high, but we notice key differences. In Vancouver, longitude dominates Random Forest's rankings (0.4770), while availability_365 is the most significant feature for Gradient Boosting (0.5157). This suggests that availability plays an even bigger role in Vancouver, likely due to high demand fluctuations. Interestingly, latitude is far less important in Vancouver than in Toronto, possibly because different parts of the city have more uniform pricing or are less dependent on micro-location differences. Moreover, neighborhoods like Fairview and Kensington-Cedar Cottage appear in Vancouver’s top features, while Toronto Q1 2025 emphasizes Scarborough Village and Tam O'Shanter-Sullivan, showing regional differences in market dynamics.\n",
    "\n",
    "Overall, the inclusion of these datasets reinforces that pricing drivers can shift over time and between cities. Availability, location, and guest engagement are consistently important, but their rankings fluctuate depending on seasonality and local market conditions. The fact that minimum_nights and room type gained importance in Toronto Q1 2025, while Vancouver showed a stronger reliance on availability_365, suggests that pricing models should be frequently updated to reflect evolving patterns. These insights highlight the value of using multiple models and datasets to capture the full picture of Airbnb pricing dynamics."
   ]
  },
  {
   "cell_type": "code",
   "execution_count": null,
   "metadata": {},
   "outputs": [],
   "source": []
  }
 ],
 "metadata": {
  "kernelspec": {
   "display_name": "Python 3",
   "language": "python",
   "name": "python3"
  },
  "language_info": {
   "codemirror_mode": {
    "name": "ipython",
    "version": 3
   },
   "file_extension": ".py",
   "mimetype": "text/x-python",
   "name": "python",
   "nbconvert_exporter": "python",
   "pygments_lexer": "ipython3",
   "version": "3.8.5"
  }
 },
 "nbformat": 4,
 "nbformat_minor": 4
}
